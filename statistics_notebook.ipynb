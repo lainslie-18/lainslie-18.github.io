{
 "cells": [
  {
   "cell_type": "markdown",
   "id": "bb1e7ee5",
   "metadata": {},
   "source": [
    "### Task\n",
    "Given an array, `X`, of `N` integers, calculate and print the respective mean, median, and mode on separate lines. If your array contains more than one modal value, choose the numerically smallest one.\n",
    "\n",
    "Note: Other than the modal value (which will always be an integer), your answers should be in decimal form, rounded to a scale of  decimal place (i.e., ,  format).\n",
    "\n",
    "### Input Format\n",
    "The first line contains an integer, , the number of elements in the array.\n",
    "The second line contains  space-separated integers that describe the array's elements."
   ]
  },
  {
   "cell_type": "code",
   "execution_count": null,
   "id": "1e70b535",
   "metadata": {},
   "outputs": [],
   "source": [
    "# basic Python\n",
    "\n",
    "# Enter your code here. Read input from STDIN. Print output to STDOUT\n",
    "import sys\n",
    "import statistics\n",
    "\n",
    "# function that takes two parameters as input, len(array) & array, and returns mean, median, and mode\n",
    "def mean_median_mode(n, x):\n",
    "    idx = n//2\n",
    "    \n",
    "    # calculates mean\n",
    "    mean = round(sum(x)/n, 1)\n",
    "    \n",
    "    # calculates median\n",
    "    median = statistics.median(x)\n",
    "    \n",
    "    # calculates mode\n",
    "    counts = {}\n",
    "    for i in x:\n",
    "        if i not in counts.keys():\n",
    "            counts[i] = 1\n",
    "        else:\n",
    "            counts[i] += 1\n",
    "    \n",
    "    max_count = sorted(counts.values())[-1]\n",
    "    mode = min([k for k,v in counts.items() if v == max_count])\n",
    "    \n",
    "    return mean, median, mode\n",
    "\n",
    "vars = sys.stdin.readlines()\n",
    "n = int(vars[0])\n",
    "x = [int(i) for i in vars[1].split()]\n",
    "\n",
    "mean, median, mode = mean_median_mode(n, x)\n",
    "\n",
    "sys.stdout.write(str(mean))\n",
    "sys.stdout.write('\\n')\n",
    "sys.stdout.write(str(median))\n",
    "sys.stdout.write('\\n')\n",
    "sys.stdout.write(str(mode))"
   ]
  },
  {
   "cell_type": "code",
   "execution_count": null,
   "id": "be3bebea",
   "metadata": {},
   "outputs": [],
   "source": [
    "# using stats module\n",
    "\n",
    "# Enter your code here. Read input from STDIN. Print output to STDOUT\n",
    "import sys\n",
    "import statistics\n",
    "\n",
    "def mean_median_mode(n, x):\n",
    "    idx = n//2\n",
    "    \n",
    "    # calculates mean\n",
    "    mean = statistics.mean(x)\n",
    "    \n",
    "    # calculates median\n",
    "    median = statistics.median(x)\n",
    "    \n",
    "    # calculates mode\n",
    "    mode = min(statistics.multimode(x))\n",
    "    \n",
    "    return mean, median, mode\n",
    "\n",
    "vars = sys.stdin.readlines()\n",
    "n = int(vars[0])\n",
    "x = [int(i) for i in vars[1].split()]\n",
    "\n",
    "mean, median, mode = mean_median_mode(n, x)\n",
    "\n",
    "sys.stdout.write(str(mean))\n",
    "sys.stdout.write('\\n')\n",
    "sys.stdout.write(str(median))\n",
    "sys.stdout.write('\\n')\n",
    "sys.stdout.write(str(mode))"
   ]
  }
 ],
 "metadata": {
  "kernelspec": {
   "display_name": "Python 3",
   "language": "python",
   "name": "python3"
  },
  "language_info": {
   "codemirror_mode": {
    "name": "ipython",
    "version": 3
   },
   "file_extension": ".py",
   "mimetype": "text/x-python",
   "name": "python",
   "nbconvert_exporter": "python",
   "pygments_lexer": "ipython3",
   "version": "3.8.8"
  }
 },
 "nbformat": 4,
 "nbformat_minor": 5
}
