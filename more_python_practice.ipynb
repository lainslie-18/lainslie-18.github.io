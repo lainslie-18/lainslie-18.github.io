{
 "cells": [
  {
   "cell_type": "code",
   "execution_count": 1,
   "id": "7725342d",
   "metadata": {},
   "outputs": [],
   "source": [
    "import numpy as np\n",
    "import pandas as pd"
   ]
  },
  {
   "cell_type": "markdown",
   "id": "f53f0a62",
   "metadata": {},
   "source": [
    "# Exercise 1\n",
    "\n",
    "Write a function that returns the SUM of a sequence of numbers. This sequence is determined by three variables: start, finish, and step. The sequence begins at start, ends at finish, and goes up by step until it reaches finish or a number that when increased by step would go past finish."
   ]
  },
  {
   "cell_type": "code",
   "execution_count": 2,
   "id": "d02c7937",
   "metadata": {},
   "outputs": [],
   "source": [
    "def get_sum(start, finish, step):\n",
    "    return sum(range(start, finish+1, step))"
   ]
  },
  {
   "cell_type": "code",
   "execution_count": 3,
   "id": "b47161ec",
   "metadata": {},
   "outputs": [
    {
     "data": {
      "text/plain": [
       "9"
      ]
     },
     "execution_count": 3,
     "metadata": {},
     "output_type": "execute_result"
    }
   ],
   "source": [
    "get_sum(1, 5, 2)"
   ]
  },
  {
   "cell_type": "markdown",
   "id": "a2305194",
   "metadata": {},
   "source": [
    "# Exercise 2\n",
    "\n",
    "Given a string of any length with any characters in it, write a function to determine whether or not the string contains the whole word \"english\". The order of characters/spelling is important, a string \"agkjnenglishsad\" would return true while \"asdneglihsth\" would return false. Upper and lower case does not matter. Return values should be booleans (true/false)."
   ]
  },
  {
   "cell_type": "code",
   "execution_count": 4,
   "id": "d3aae65b",
   "metadata": {},
   "outputs": [],
   "source": [
    "def is_english(str):\n",
    "    return 'english' in str.lower()"
   ]
  },
  {
   "cell_type": "code",
   "execution_count": 5,
   "id": "7284d9d7",
   "metadata": {},
   "outputs": [
    {
     "data": {
      "text/plain": [
       "True"
      ]
     },
     "execution_count": 5,
     "metadata": {},
     "output_type": "execute_result"
    }
   ],
   "source": [
    "is_english('slhEnGlISh456h&#gli')"
   ]
  },
  {
   "cell_type": "markdown",
   "id": "24d6c444",
   "metadata": {},
   "source": [
    "# Exercise 3\n",
    "\n",
    "Given an array of integers, write a function that returns an array of 2 integers. The first integer will be the count of the positive integers, and the second integer will be the sum of the negative integers. If the input is empty or null, return an empty array."
   ]
  },
  {
   "cell_type": "code",
   "execution_count": 6,
   "id": "8bcdb1db",
   "metadata": {},
   "outputs": [],
   "source": [
    "def count_positive_sum_negatives(lst):\n",
    "    count_sum = []\n",
    "    if lst:\n",
    "        count_sum = [0,0]\n",
    "        for el in lst:\n",
    "            if el >= 0:\n",
    "                count_sum[0] += 1\n",
    "            else:\n",
    "                count_sum[1] += el\n",
    "    return count_sum"
   ]
  },
  {
   "cell_type": "code",
   "execution_count": 7,
   "id": "c9371d83",
   "metadata": {},
   "outputs": [
    {
     "data": {
      "text/plain": [
       "[2, -4]"
      ]
     },
     "execution_count": 7,
     "metadata": {},
     "output_type": "execute_result"
    }
   ],
   "source": [
    "count_positive_sum_negatives([-3,7,4,-1])"
   ]
  },
  {
   "cell_type": "markdown",
   "id": "62acc5aa",
   "metadata": {},
   "source": [
    "# Exercise 4\n",
    "\n",
    "Write a function that translates an input string by replacing each character with a number representing the amount of times that character appears in the string. Then separate each individual number with a different character."
   ]
  },
  {
   "cell_type": "code",
   "execution_count": 13,
   "id": "1eaea411",
   "metadata": {},
   "outputs": [
    {
     "name": "stdout",
     "output_type": "stream",
     "text": [
      "w\n",
      "o2efmj2pfnpfbners\n",
      "o\n",
      "12efmj2pfnpfbners\n",
      "b\n",
      "12efmj2pfnpf1ners\n",
      "p\n",
      "12efmj22fn2f1ners\n",
      "n\n",
      "12efmj22f22f12ers\n",
      "m\n",
      "12ef1j22f22f12ers\n",
      "j\n",
      "12ef1122f22f12ers\n",
      "r\n",
      "12ef1122f22f12e1s\n",
      "s\n",
      "12ef1122f22f12e11\n",
      "f\n",
      "12e31122322312e11\n",
      "e\n",
      "12231122322312211\n"
     ]
    },
    {
     "data": {
      "text/plain": [
       "'12231122322312211'"
      ]
     },
     "execution_count": 13,
     "metadata": {},
     "output_type": "execute_result"
    }
   ],
   "source": [
    "some_str = 'owefmjwpfnpfbners'\n",
    "\n",
    "ch_counts = {}\n",
    "\n",
    "for ch in some_str:\n",
    "    if ch in ch_counts:\n",
    "        ch_counts[ch] += 1\n",
    "    else:\n",
    "        ch_counts[ch] = 1\n",
    "\n",
    "for ch in set(some_str):\n",
    "    print(ch)\n",
    "    some_str = some_str.replace(ch, str(ch_counts[ch]))\n",
    "    print(some_str)\n",
    "some_str\n",
    "# still need to separate with another character"
   ]
  }
 ],
 "metadata": {
  "kernelspec": {
   "display_name": "Python 3",
   "language": "python",
   "name": "python3"
  },
  "language_info": {
   "codemirror_mode": {
    "name": "ipython",
    "version": 3
   },
   "file_extension": ".py",
   "mimetype": "text/x-python",
   "name": "python",
   "nbconvert_exporter": "python",
   "pygments_lexer": "ipython3",
   "version": "3.8.8"
  }
 },
 "nbformat": 4,
 "nbformat_minor": 5
}
