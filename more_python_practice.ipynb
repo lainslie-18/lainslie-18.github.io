{
 "cells": [
  {
   "cell_type": "code",
   "execution_count": 49,
   "id": "7725342d",
   "metadata": {},
   "outputs": [],
   "source": [
    "import numpy as np\n",
    "import pandas as pd\n",
    "from scipy import stats\n",
    "import math"
   ]
  },
  {
   "cell_type": "markdown",
   "id": "f53f0a62",
   "metadata": {},
   "source": [
    "# Exercise 1\n",
    "\n",
    "Write a function that returns the SUM of a sequence of numbers. This sequence is determined by three variables: start, finish, and step. The sequence begins at start, ends at finish, and goes up by step until it reaches finish or a number that when increased by step would go past finish."
   ]
  },
  {
   "cell_type": "code",
   "execution_count": 2,
   "id": "d02c7937",
   "metadata": {},
   "outputs": [],
   "source": [
    "def get_sum(start, finish, step):\n",
    "    return sum(range(start, finish+1, step))"
   ]
  },
  {
   "cell_type": "code",
   "execution_count": 3,
   "id": "b47161ec",
   "metadata": {},
   "outputs": [
    {
     "data": {
      "text/plain": [
       "9"
      ]
     },
     "execution_count": 3,
     "metadata": {},
     "output_type": "execute_result"
    }
   ],
   "source": [
    "get_sum(1, 5, 2)"
   ]
  },
  {
   "cell_type": "markdown",
   "id": "a2305194",
   "metadata": {},
   "source": [
    "# Exercise 2\n",
    "\n",
    "Given a string of any length with any characters in it, write a function to determine whether or not the string contains the whole word \"english\". The order of characters/spelling is important, a string \"agkjnenglishsad\" would return true while \"asdneglihsth\" would return false. Upper and lower case does not matter. Return values should be booleans (true/false)."
   ]
  },
  {
   "cell_type": "code",
   "execution_count": 4,
   "id": "d3aae65b",
   "metadata": {},
   "outputs": [],
   "source": [
    "def is_english(str):\n",
    "    return 'english' in str.lower()"
   ]
  },
  {
   "cell_type": "code",
   "execution_count": 5,
   "id": "7284d9d7",
   "metadata": {},
   "outputs": [
    {
     "data": {
      "text/plain": [
       "True"
      ]
     },
     "execution_count": 5,
     "metadata": {},
     "output_type": "execute_result"
    }
   ],
   "source": [
    "is_english('slhEnGlISh456h&#gli')"
   ]
  },
  {
   "cell_type": "markdown",
   "id": "24d6c444",
   "metadata": {},
   "source": [
    "# Exercise 3\n",
    "\n",
    "Given an array of integers, write a function that returns an array of 2 integers. The first integer will be the count of the positive integers, and the second integer will be the sum of the negative integers. If the input is empty or null, return an empty array."
   ]
  },
  {
   "cell_type": "code",
   "execution_count": 6,
   "id": "8bcdb1db",
   "metadata": {},
   "outputs": [],
   "source": [
    "def count_positive_sum_negatives(lst):\n",
    "    count_sum = []\n",
    "    if lst:\n",
    "        count_sum = [0,0]\n",
    "        for el in lst:\n",
    "            if el >= 0:\n",
    "                count_sum[0] += 1\n",
    "            else:\n",
    "                count_sum[1] += el\n",
    "    return count_sum"
   ]
  },
  {
   "cell_type": "code",
   "execution_count": 7,
   "id": "c9371d83",
   "metadata": {},
   "outputs": [
    {
     "data": {
      "text/plain": [
       "[2, -4]"
      ]
     },
     "execution_count": 7,
     "metadata": {},
     "output_type": "execute_result"
    }
   ],
   "source": [
    "count_positive_sum_negatives([-3,7,4,-1])"
   ]
  },
  {
   "cell_type": "markdown",
   "id": "62acc5aa",
   "metadata": {},
   "source": [
    "# Exercise 4\n",
    "\n",
    "Write a function that translates an input string by replacing each character with a number representing the amount of times that character appears in the string. Then separate each individual number with a different character."
   ]
  },
  {
   "cell_type": "code",
   "execution_count": 13,
   "id": "1eaea411",
   "metadata": {},
   "outputs": [
    {
     "name": "stdout",
     "output_type": "stream",
     "text": [
      "w\n",
      "o2efmj2pfnpfbners\n",
      "o\n",
      "12efmj2pfnpfbners\n",
      "b\n",
      "12efmj2pfnpf1ners\n",
      "p\n",
      "12efmj22fn2f1ners\n",
      "n\n",
      "12efmj22f22f12ers\n",
      "m\n",
      "12ef1j22f22f12ers\n",
      "j\n",
      "12ef1122f22f12ers\n",
      "r\n",
      "12ef1122f22f12e1s\n",
      "s\n",
      "12ef1122f22f12e11\n",
      "f\n",
      "12e31122322312e11\n",
      "e\n",
      "12231122322312211\n"
     ]
    },
    {
     "data": {
      "text/plain": [
       "'12231122322312211'"
      ]
     },
     "execution_count": 13,
     "metadata": {},
     "output_type": "execute_result"
    }
   ],
   "source": [
    "some_str = 'owefmjwpfnpfbners'\n",
    "\n",
    "ch_counts = {}\n",
    "\n",
    "for ch in some_str:\n",
    "    if ch in ch_counts:\n",
    "        ch_counts[ch] += 1\n",
    "    else:\n",
    "        ch_counts[ch] = 1\n",
    "\n",
    "for ch in set(some_str):\n",
    "    print(ch)\n",
    "    some_str = some_str.replace(ch, str(ch_counts[ch]))\n",
    "    print(some_str)\n",
    "some_str\n",
    "# still need to separate with another character"
   ]
  },
  {
   "cell_type": "markdown",
   "id": "0219cbe6",
   "metadata": {},
   "source": [
    "# Stats"
   ]
  },
  {
   "cell_type": "markdown",
   "id": "7c9c0666",
   "metadata": {},
   "source": [
    "## Given an array, `X`, of `N` integers, calculate and print the respective mean, median, and mode on separate lines. If your array contains more than one modal value, choose the numerically smallest one."
   ]
  },
  {
   "cell_type": "code",
   "execution_count": 44,
   "id": "20edc9af",
   "metadata": {},
   "outputs": [
    {
     "name": "stdout",
     "output_type": "stream",
     "text": [
      "12\n",
      "12 21 23 32 34 43 45 54 56 65 56 54 45 43 34\n",
      "41.1\n",
      "43.0\n",
      "34\n"
     ]
    }
   ],
   "source": [
    "# define the number of integers\n",
    "n = int(input())\n",
    "\n",
    "# create an array from space separated integer input\n",
    "arr = list(map(int, input().split()))\n",
    "\n",
    "# print mean, median, and mode\n",
    "print(round(np.mean(arr), 1))\n",
    "print(round(np.median(arr), 1))\n",
    "print(stats.mode(arr)[0][0])"
   ]
  },
  {
   "cell_type": "markdown",
   "id": "a5207eb3",
   "metadata": {},
   "source": [
    "## Given an array, `X`, of `N` integers and an array, `W`, representing the respective weights of `X`'s elements, calculate and print the weighted mean of `X`'s elements. Your answer should be rounded to a scale of `1` decimal place."
   ]
  },
  {
   "cell_type": "code",
   "execution_count": 48,
   "id": "24d796ee",
   "metadata": {},
   "outputs": [
    {
     "name": "stdout",
     "output_type": "stream",
     "text": [
      "5\n",
      "10 40 30 50 20\n",
      "1 2 3 4 5\n",
      "32.0\n"
     ]
    }
   ],
   "source": [
    "def weightedMean(X, W):\n",
    "    # define collector array\n",
    "    arr = []\n",
    "    # multiply zipped elements from X and W and append to collector array\n",
    "    for a,b in zip(X, W):\n",
    "        arr.append(a*b)\n",
    "    print(round(sum(arr) / sum(W), 1))\n",
    "    \n",
    "# test   \n",
    "if __name__ == '__main__':\n",
    "    n = int(input().strip())\n",
    "    vals = list(map(int, input().rstrip().split()))\n",
    "    weights = list(map(int, input().rstrip().split()))\n",
    "    weightedMean(vals, weights)"
   ]
  },
  {
   "cell_type": "markdown",
   "id": "78cb6e0e",
   "metadata": {},
   "source": [
    "## Given an array, `arr`, of n integers, calculate and print the standard deviation. Your answer should be in decimal form, rounded to a scale of `1` decimal place."
   ]
  },
  {
   "cell_type": "code",
   "execution_count": null,
   "id": "9afa53c7",
   "metadata": {},
   "outputs": [],
   "source": [
    "def stdDev(arr):\n",
    "    # calculate mean of the array\n",
    "    arr_mean = sum(arr)/len(arr)\n",
    "    # define collector\n",
    "    collector = []\n",
    "    # loop through each element in passed argument and calculate distance from mean\n",
    "    for el in arr:\n",
    "        collector.append((el-arr_mean)**2)\n",
    "    # calculate variance for array \n",
    "    var = sum(collector)/len(arr)\n",
    "    # print square root of the variance\n",
    "    print(round(math.sqrt(var), 1))\n",
    "    \n",
    "# test function\n",
    "if __name__ == '__main__':\n",
    "    n = int(input().strip())\n",
    "    vals = list(map(int, input().rstrip().split()))\n",
    "    stdDev(vals)"
   ]
  },
  {
   "cell_type": "markdown",
   "id": "08626649",
   "metadata": {},
   "source": [
    "## Given an array, `arr`, of `n` integers, calculate the respective first quartile (`Q1`), second quartile (`Q2`), and third quartile (`Q3`). It is guaranteed that `Q1`, `Q2`, and `Q3` are integers."
   ]
  },
  {
   "cell_type": "code",
   "execution_count": null,
   "id": "d26a1cf5",
   "metadata": {},
   "outputs": [],
   "source": [
    "def quartiles(arr):\n",
    "    # \n",
    "    index = []\n",
    "    \n",
    "    if len(arr) % 2 == 0:\n",
    "        f\n",
    "        index.append(int(len(arr)/2))\n",
    "        index.append(int((len(arr)/2)-1))\n",
    "        \n",
    "        q2 = (sorted(arr)[index[0]] + sorted(arr)[index[1]]) / 2\n",
    "        \n",
    "    else:\n",
    "        index.append(int(len(arr)/2))\n",
    "        \n",
    "        q2 = sorted(arr)[index[0]]\n",
    "if __name__ == '__main__':\n",
    "    fptr = open(os.environ['OUTPUT_PATH'], 'w')\n",
    "\n",
    "    n = int(input().strip())\n",
    "\n",
    "    data = list(map(int, input().rstrip().split()))\n",
    "\n",
    "    res = quartiles(data)\n",
    "\n",
    "    fptr.write('\\n'.join(map(str, res)))\n",
    "    fptr.write('\\n')\n",
    "\n",
    "    fptr.close()"
   ]
  },
  {
   "cell_type": "code",
   "execution_count": 62,
   "id": "bc7878b0",
   "metadata": {},
   "outputs": [],
   "source": [
    "arr = [7, 8, 5, 12, 14, 21, 13,18]"
   ]
  },
  {
   "cell_type": "code",
   "execution_count": 63,
   "id": "9f5055d4",
   "metadata": {},
   "outputs": [
    {
     "data": {
      "text/plain": [
       "[5, 7, 8, 12, 13, 14, 18, 21]"
      ]
     },
     "execution_count": 63,
     "metadata": {},
     "output_type": "execute_result"
    }
   ],
   "source": [
    "sorted(arr)"
   ]
  },
  {
   "cell_type": "code",
   "execution_count": 70,
   "id": "b416b144",
   "metadata": {},
   "outputs": [
    {
     "name": "stdout",
     "output_type": "stream",
     "text": [
      "12.5\n"
     ]
    }
   ],
   "source": [
    "index = []\n",
    "\n",
    "if len(arr) % 2 == 0:\n",
    "    index.append(int(len(arr)/2))\n",
    "    index.append(int((len(arr)/2)-1))\n",
    "        \n",
    "    q2 = (sorted(arr)[index[0]] + sorted(arr)[index[1]]) / 2\n",
    "    print(q2)"
   ]
  },
  {
   "cell_type": "code",
   "execution_count": 67,
   "id": "efd3fa10",
   "metadata": {},
   "outputs": [
    {
     "ename": "NameError",
     "evalue": "name 'q2' is not defined",
     "output_type": "error",
     "traceback": [
      "\u001b[0;31m---------------------------------------------------------------------------\u001b[0m",
      "\u001b[0;31mNameError\u001b[0m                                 Traceback (most recent call last)",
      "\u001b[0;32m<ipython-input-67-460966e5ae86>\u001b[0m in \u001b[0;36m<module>\u001b[0;34m\u001b[0m\n\u001b[0;32m----> 1\u001b[0;31m \u001b[0mq2\u001b[0m\u001b[0;34m\u001b[0m\u001b[0;34m\u001b[0m\u001b[0m\n\u001b[0m",
      "\u001b[0;31mNameError\u001b[0m: name 'q2' is not defined"
     ]
    }
   ],
   "source": [
    "q2"
   ]
  },
  {
   "cell_type": "code",
   "execution_count": null,
   "id": "9d97a015",
   "metadata": {},
   "outputs": [],
   "source": [
    "x = sorted(arr)\n",
    "print(x)\n",
    "print(len(x))"
   ]
  },
  {
   "cell_type": "code",
   "execution_count": null,
   "id": "f82b30a6",
   "metadata": {},
   "outputs": [],
   "source": []
  },
  {
   "cell_type": "code",
   "execution_count": null,
   "id": "c82bf07d",
   "metadata": {},
   "outputs": [],
   "source": []
  },
  {
   "cell_type": "code",
   "execution_count": 58,
   "id": "18d35afa",
   "metadata": {},
   "outputs": [
    {
     "ename": "TypeError",
     "evalue": "list indices must be integers or slices, not builtin_function_or_method",
     "output_type": "error",
     "traceback": [
      "\u001b[0;31m---------------------------------------------------------------------------\u001b[0m",
      "\u001b[0;31mTypeError\u001b[0m                                 Traceback (most recent call last)",
      "\u001b[0;32m<ipython-input-58-35f33cc327be>\u001b[0m in \u001b[0;36m<module>\u001b[0;34m\u001b[0m\n\u001b[0;32m----> 1\u001b[0;31m \u001b[0marr\u001b[0m\u001b[0;34m[\u001b[0m\u001b[0mlen\u001b[0m\u001b[0;34m]\u001b[0m\u001b[0;34m\u001b[0m\u001b[0;34m\u001b[0m\u001b[0m\n\u001b[0m",
      "\u001b[0;31mTypeError\u001b[0m: list indices must be integers or slices, not builtin_function_or_method"
     ]
    }
   ],
   "source": [
    "s = []\n",
    "s.append(len(x))"
   ]
  },
  {
   "cell_type": "code",
   "execution_count": 56,
   "id": "87773869",
   "metadata": {},
   "outputs": [
    {
     "ename": "TypeError",
     "evalue": "unsupported operand type(s) for /: 'list' and 'int'",
     "output_type": "error",
     "traceback": [
      "\u001b[0;31m---------------------------------------------------------------------------\u001b[0m",
      "\u001b[0;31mTypeError\u001b[0m                                 Traceback (most recent call last)",
      "\u001b[0;32m<ipython-input-56-99135f5c8f47>\u001b[0m in \u001b[0;36m<module>\u001b[0;34m\u001b[0m\n\u001b[1;32m      2\u001b[0m     \u001b[0mq2\u001b[0m \u001b[0;34m=\u001b[0m \u001b[0mx\u001b[0m \u001b[0;34m/\u001b[0m \u001b[0;36m2\u001b[0m\u001b[0;34m\u001b[0m\u001b[0;34m\u001b[0m\u001b[0m\n\u001b[1;32m      3\u001b[0m \u001b[0;32melif\u001b[0m \u001b[0mlen\u001b[0m\u001b[0;34m(\u001b[0m\u001b[0marr\u001b[0m\u001b[0;34m)\u001b[0m \u001b[0;34m%\u001b[0m \u001b[0;36m2\u001b[0m \u001b[0;34m==\u001b[0m \u001b[0;36m1\u001b[0m\u001b[0;34m:\u001b[0m\u001b[0;34m\u001b[0m\u001b[0;34m\u001b[0m\u001b[0m\n\u001b[0;32m----> 4\u001b[0;31m     \u001b[0mq2\u001b[0m \u001b[0;34m=\u001b[0m \u001b[0mx\u001b[0m \u001b[0;34m/\u001b[0m \u001b[0;36m2\u001b[0m\u001b[0;34m\u001b[0m\u001b[0;34m\u001b[0m\u001b[0m\n\u001b[0m\u001b[1;32m      5\u001b[0m \u001b[0mq2\u001b[0m\u001b[0;34m\u001b[0m\u001b[0;34m\u001b[0m\u001b[0m\n",
      "\u001b[0;31mTypeError\u001b[0m: unsupported operand type(s) for /: 'list' and 'int'"
     ]
    }
   ],
   "source": [
    "if len(arr) % 2 == 0:\n",
    "    q2 = x / 2\n",
    "elif len(arr) % 2 == 1:\n",
    "    q2 = x / 2\n",
    "q2"
   ]
  },
  {
   "cell_type": "markdown",
   "id": "dbe739d9",
   "metadata": {},
   "source": [
    "### dkjfdskj"
   ]
  },
  {
   "cell_type": "code",
   "execution_count": 123,
   "id": "80dcb802",
   "metadata": {},
   "outputs": [],
   "source": [
    "import os"
   ]
  },
  {
   "cell_type": "code",
   "execution_count": 140,
   "id": "5196ac0a",
   "metadata": {},
   "outputs": [],
   "source": [
    "text = ['code',\"aaagmnrs\",\"anagrams\",\"doce\"]"
   ]
  },
  {
   "cell_type": "code",
   "execution_count": 150,
   "id": "70d7db54",
   "metadata": {},
   "outputs": [],
   "source": [
    "def funWithAnagrams(text):\n",
    "    counter = 0\n",
    "    collector = []\n",
    "    while counter < (len(text) - 1):\n",
    "        compare1 = text[counter]\n",
    "        compare2 = text[counter + 1]\n",
    "        if len(compare1) == len(compare2) and sorted(list(compare1)) == sorted(list(compare2)):\n",
    "            collector.append(compare1)\n",
    "            print('anagram')\n",
    "            counter += 1\n",
    "        else:\n",
    "            collector.append(compare1)\n",
    "            collector.append(compare2)\n",
    "            print('not anagram')\n",
    "            counter += 1\n",
    "    return collector"
   ]
  },
  {
   "cell_type": "code",
   "execution_count": 151,
   "id": "fce001ba",
   "metadata": {},
   "outputs": [
    {
     "name": "stdout",
     "output_type": "stream",
     "text": [
      "not anagram\n",
      "anagram\n",
      "not anagram\n"
     ]
    },
    {
     "data": {
      "text/plain": [
       "['code', 'aaagmnrs', 'aaagmnrs', 'anagrams', 'doce']"
      ]
     },
     "execution_count": 151,
     "metadata": {},
     "output_type": "execute_result"
    }
   ],
   "source": [
    "funWithAnagrams(text)"
   ]
  },
  {
   "cell_type": "code",
   "execution_count": 132,
   "id": "8571a14c",
   "metadata": {},
   "outputs": [
    {
     "data": {
      "text/plain": [
       "3"
      ]
     },
     "execution_count": 132,
     "metadata": {},
     "output_type": "execute_result"
    }
   ],
   "source": [
    "getUniqueCharacter('hackthegame')"
   ]
  },
  {
   "cell_type": "code",
   "execution_count": null,
   "id": "1012d77c",
   "metadata": {},
   "outputs": [],
   "source": []
  },
  {
   "cell_type": "code",
   "execution_count": null,
   "id": "d832021c",
   "metadata": {},
   "outputs": [],
   "source": []
  },
  {
   "cell_type": "code",
   "execution_count": null,
   "id": "fc59c02b",
   "metadata": {},
   "outputs": [],
   "source": [
    "s = 'hackthegame'\n",
    "\n",
    "def getUniqueCharacter(s):"
   ]
  }
 ],
 "metadata": {
  "kernelspec": {
   "display_name": "Python 3",
   "language": "python",
   "name": "python3"
  },
  "language_info": {
   "codemirror_mode": {
    "name": "ipython",
    "version": 3
   },
   "file_extension": ".py",
   "mimetype": "text/x-python",
   "name": "python",
   "nbconvert_exporter": "python",
   "pygments_lexer": "ipython3",
   "version": "3.8.8"
  }
 },
 "nbformat": 4,
 "nbformat_minor": 5
}
